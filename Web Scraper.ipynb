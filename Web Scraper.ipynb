{
 "cells": [
  {
   "cell_type": "code",
   "execution_count": 1,
   "id": "4c08e8ae",
   "metadata": {},
   "outputs": [],
   "source": [
    "import requests\n",
    "from bs4 import BeautifulSoup\n",
    "import pandas as pd\n",
    "from transformers import pipeline\n",
    "import numpy as np"
   ]
  },
  {
   "cell_type": "code",
   "execution_count": 2,
   "id": "abb9614d",
   "metadata": {},
   "outputs": [
    {
     "name": "stderr",
     "output_type": "stream",
     "text": [
      "No model was supplied, defaulted to sshleifer/distilbart-cnn-12-6 and revision a4f8f3e (https://huggingface.co/sshleifer/distilbart-cnn-12-6).\n",
      "Using a pipeline without specifying a model name and revision in production is not recommended.\n"
     ]
    }
   ],
   "source": [
    "summarizer = pipeline(\"summarization\")"
   ]
  },
  {
   "cell_type": "code",
   "execution_count": 3,
   "id": "aab774f9",
   "metadata": {},
   "outputs": [],
   "source": [
    "key_word = \"iran\" \n",
    "\n",
    "# Insert key word to scrape for"
   ]
  },
  {
   "cell_type": "code",
   "execution_count": 4,
   "id": "8ebfb861",
   "metadata": {},
   "outputs": [],
   "source": [
    "websites = ['https://www.bbc.co.uk/', \"https://www.theguardian.com/\"]"
   ]
  },
  {
   "cell_type": "code",
   "execution_count": 5,
   "id": "568df8a8",
   "metadata": {},
   "outputs": [],
   "source": [
    "checked_articles = set()\n",
    "mentions = []\n",
    "headlines = []\n",
    "links = []\n",
    "summaries = []\n",
    "\n",
    "session = requests.Session()\n",
    "\n",
    "for website in websites:\n",
    "\n",
    "    s = session.get(website)\n",
    "    s.encoding = \"utf-8\"\n",
    "    site_soup = BeautifulSoup(s.text, \"html.parser\")\n",
    "\n",
    "    raw_stories = site_soup.select(\"h3:has(a)\") or site_soup.select(\"a:has(h3)\")\n",
    "\n",
    "    for story in raw_stories:\n",
    "        \n",
    "        if not story.find(\"a\"):\n",
    "            article_link = website + (story.get(\"href\"))[1:]\n",
    "        \n",
    "        else:\n",
    "            article_link = website + (story.find(\"a\").get(\"href\"))[1:]\n",
    "            \n",
    "        if article_link in checked_articles:\n",
    "            continue\n",
    "            \n",
    "        else:\n",
    "            checked_articles.add(article_link)\n",
    "            \n",
    "        article_ses = session.get(article_link)\n",
    "        article_soup = BeautifulSoup(article_ses.text, \"html.parser\")\n",
    "\n",
    "        headline = story.text\n",
    "        article = article_soup.find(\"article\")\n",
    "        \n",
    "        if not article:\n",
    "            continue\n",
    "        \n",
    "        headline = story.text\n",
    "        article_text = article.text\n",
    "        \n",
    "        if key_word.lower() in article_text.lower():\n",
    "            mentions.append(article_text.lower().count(key_word.lower()))\n",
    "            headlines.append(headline)\n",
    "            links.append(article_link)\n",
    "\n",
    "            article_summary = summarizer(article_text[:1024], max_length = 130, min_length = 30, do_sample = False)\n",
    "            summaries.append(article_summary[0][\"summary_text\"])\n",
    "            \n",
    "session.close()"
   ]
  },
  {
   "cell_type": "code",
   "execution_count": 6,
   "id": "5f4b6aa8",
   "metadata": {},
   "outputs": [
    {
     "data": {
      "text/html": [
       "<div>\n",
       "<style scoped>\n",
       "    .dataframe tbody tr th:only-of-type {\n",
       "        vertical-align: middle;\n",
       "    }\n",
       "\n",
       "    .dataframe tbody tr th {\n",
       "        vertical-align: top;\n",
       "    }\n",
       "\n",
       "    .dataframe thead th {\n",
       "        text-align: right;\n",
       "    }\n",
       "</style>\n",
       "<table border=\"1\" class=\"dataframe\">\n",
       "  <thead>\n",
       "    <tr style=\"text-align: right;\">\n",
       "      <th></th>\n",
       "      <th>Headline</th>\n",
       "      <th>Article Link</th>\n",
       "      <th>No. Mentions</th>\n",
       "      <th>Summary</th>\n",
       "    </tr>\n",
       "  </thead>\n",
       "  <tbody>\n",
       "    <tr>\n",
       "      <th>0</th>\n",
       "      <td>Live. BBC Verify Live: What videos tell us abo...</td>\n",
       "      <td>https://www.bbc.co.uk/news/live/c8xvrgz5vvkt</td>\n",
       "      <td>4</td>\n",
       "      <td>Iranian media publish CCTV recording of Tehra...</td>\n",
       "    </tr>\n",
       "    <tr>\n",
       "      <th>1</th>\n",
       "      <td>Katy Perry and Orlando Bloom confirm split</td>\n",
       "      <td>https://www.bbc.co.uk/news/articles/cj61x8r552ko</td>\n",
       "      <td>1</td>\n",
       "      <td>Katy Perry and Orlando Bloom have been romant...</td>\n",
       "    </tr>\n",
       "    <tr>\n",
       "      <th>2</th>\n",
       "      <td>Kuenssberg: Starmer's first year ends in shamb...</td>\n",
       "      <td>https://www.bbc.co.uk/news/articles/cp8m9vdz2m4o</td>\n",
       "      <td>3</td>\n",
       "      <td>Kuenssberg: Starmer's first year ends in sham...</td>\n",
       "    </tr>\n",
       "    <tr>\n",
       "      <th>3</th>\n",
       "      <td>IsraelIsrael steps up deadly bombardment of Ga...</td>\n",
       "      <td>https://www.theguardian.com/world/2025/jul/03/...</td>\n",
       "      <td>2</td>\n",
       "      <td>Medics say about 90 people killed since Wedne...</td>\n",
       "    </tr>\n",
       "    <tr>\n",
       "      <th>4</th>\n",
       "      <td>The Starmtrooper rebellionWelfare bill vote sh...</td>\n",
       "      <td>https://www.theguardian.com/politics/2025/jul/...</td>\n",
       "      <td>1</td>\n",
       "      <td>The government won the vote 336-261, but only...</td>\n",
       "    </tr>\n",
       "  </tbody>\n",
       "</table>\n",
       "</div>"
      ],
      "text/plain": [
       "                                            Headline  \\\n",
       "0  Live. BBC Verify Live: What videos tell us abo...   \n",
       "1         Katy Perry and Orlando Bloom confirm split   \n",
       "2  Kuenssberg: Starmer's first year ends in shamb...   \n",
       "3  IsraelIsrael steps up deadly bombardment of Ga...   \n",
       "4  The Starmtrooper rebellionWelfare bill vote sh...   \n",
       "\n",
       "                                        Article Link  No. Mentions  \\\n",
       "0       https://www.bbc.co.uk/news/live/c8xvrgz5vvkt             4   \n",
       "1   https://www.bbc.co.uk/news/articles/cj61x8r552ko             1   \n",
       "2   https://www.bbc.co.uk/news/articles/cp8m9vdz2m4o             3   \n",
       "3  https://www.theguardian.com/world/2025/jul/03/...             2   \n",
       "4  https://www.theguardian.com/politics/2025/jul/...             1   \n",
       "\n",
       "                                             Summary  \n",
       "0   Iranian media publish CCTV recording of Tehra...  \n",
       "1   Katy Perry and Orlando Bloom have been romant...  \n",
       "2   Kuenssberg: Starmer's first year ends in sham...  \n",
       "3   Medics say about 90 people killed since Wedne...  \n",
       "4   The government won the vote 336-261, but only...  "
      ]
     },
     "execution_count": 6,
     "metadata": {},
     "output_type": "execute_result"
    }
   ],
   "source": [
    "relevant_articles_df = pd.DataFrame(\n",
    "    {\"Headline\": headlines,\n",
    "     \"Article Link\":links,\n",
    "     \"No. Mentions\":mentions,\n",
    "     \"Summary\":summaries})\n",
    "\n",
    "relevant_articles_df"
   ]
  }
 ],
 "metadata": {
  "kernelspec": {
   "display_name": "Python 3 (ipykernel)",
   "language": "python",
   "name": "python3"
  },
  "language_info": {
   "codemirror_mode": {
    "name": "ipython",
    "version": 3
   },
   "file_extension": ".py",
   "mimetype": "text/x-python",
   "name": "python",
   "nbconvert_exporter": "python",
   "pygments_lexer": "ipython3",
   "version": "3.9.13"
  }
 },
 "nbformat": 4,
 "nbformat_minor": 5
}
