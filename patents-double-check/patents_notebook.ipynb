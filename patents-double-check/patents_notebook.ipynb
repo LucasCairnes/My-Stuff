{
 "cells": [
  {
   "cell_type": "code",
   "execution_count": 55,
   "id": "6bda14e4-c0f6-4efd-a171-a584a98511cd",
   "metadata": {},
   "outputs": [],
   "source": [
    "import pandas as pd\n",
    "from google.cloud import bigquery"
   ]
  },
  {
   "cell_type": "code",
   "execution_count": 56,
   "id": "c974acfd-4236-4982-81fa-cd2f249cbf0b",
   "metadata": {},
   "outputs": [
    {
     "name": "stderr",
     "output_type": "stream",
     "text": [
      "C:\\Users\\lucas\\anaconda3\\Lib\\site-packages\\google\\auth\\_default.py:76: UserWarning: Your application has authenticated using end user credentials from Google Cloud SDK without a quota project. You might receive a \"quota exceeded\" or \"API not enabled\" error. See the following page for troubleshooting: https://cloud.google.com/docs/authentication/adc-troubleshooting/user-creds. \n",
      "  warnings.warn(_CLOUD_SDK_CREDENTIALS_WARNING)\n"
     ]
    }
   ],
   "source": [
    "patent_count_query = '''\n",
    "SELECT\n",
    "  ids.company AS company_name,\n",
    "  COUNT(p.url) AS patent_counts\n",
    "\n",
    "FROM evident-data-dev.curated_taxonomies.company_ids AS ids\n",
    "\n",
    "LEFT JOIN evident-data-dev.curated_google_patents.banking_patents AS p ON ids.id = p.company_id\n",
    "\n",
    "WHERE ids.sector = 'bank'\n",
    "\n",
    "GROUP BY company_name\n",
    "'''\n",
    "\n",
    "client = bigquery.Client(project=\"evident-data-dev\")"
   ]
  },
  {
   "cell_type": "code",
   "execution_count": 57,
   "id": "f3f9b8a1-aea1-4cd2-9958-d4f80643a283",
   "metadata": {},
   "outputs": [
    {
     "name": "stderr",
     "output_type": "stream",
     "text": [
      "C:\\Users\\lucas\\anaconda3\\Lib\\site-packages\\google\\cloud\\bigquery\\table.py:1965: UserWarning: BigQuery Storage module not found, fetch data with the REST endpoint instead.\n",
      "  warnings.warn(\n"
     ]
    }
   ],
   "source": [
    "new_patent_counts_df = client.query(patent_count_query).to_dataframe()\n",
    "\n",
    "rename_new_dict  = {\"company_name\":\"Company\", \"patent_counts\":\"New Patent Count\"}\n",
    "new_patent_counts_df.rename(columns=rename_new_dict, inplace=True)"
   ]
  },
  {
   "cell_type": "code",
   "execution_count": 61,
   "id": "6df40389-4c4e-4f04-9d7f-54736239db88",
   "metadata": {},
   "outputs": [],
   "source": [
    "index_patent_counts_df = pd.read_csv('2024_index_patent_data.csv', usecols=index_csv_cols)\n",
    "\n",
    "rename_index_dict  = {\"Company\":\"Company\", \"Raw Value\\n2024\":\"2024 Index Patent Count\"}\n",
    "index_patent_counts_df.rename(columns=rename_index_dict, inplace=True)"
   ]
  },
  {
   "cell_type": "code",
   "execution_count": 72,
   "id": "ccdd00ca-2078-4b57-85f0-edb6e4a9a1ec",
   "metadata": {},
   "outputs": [],
   "source": [
    "patent_counts_df = pd.merge(new_patent_counts_df, index_patent_counts_df, on = \"Company\", how = \"left\")\n",
    "patent_counts_df[\"Change\"] = patent_counts_df[\"New Patent Count\"] - patent_counts_df[\"2024 Index Patent Count\"]"
   ]
  },
  {
   "cell_type": "code",
   "execution_count": 73,
   "id": "ada47b7a-51d5-4a6a-b772-2636947a23bd",
   "metadata": {},
   "outputs": [
    {
     "data": {
      "text/html": [
       "<div>\n",
       "<style scoped>\n",
       "    .dataframe tbody tr th:only-of-type {\n",
       "        vertical-align: middle;\n",
       "    }\n",
       "\n",
       "    .dataframe tbody tr th {\n",
       "        vertical-align: top;\n",
       "    }\n",
       "\n",
       "    .dataframe thead th {\n",
       "        text-align: right;\n",
       "    }\n",
       "</style>\n",
       "<table border=\"1\" class=\"dataframe\">\n",
       "  <thead>\n",
       "    <tr style=\"text-align: right;\">\n",
       "      <th></th>\n",
       "      <th>Company</th>\n",
       "      <th>New Patent Count</th>\n",
       "      <th>2024 Index Patent Count</th>\n",
       "      <th>Change</th>\n",
       "    </tr>\n",
       "  </thead>\n",
       "  <tbody>\n",
       "    <tr>\n",
       "      <th>0</th>\n",
       "      <td>Ally Financial</td>\n",
       "      <td>0</td>\n",
       "      <td>&lt;NA&gt;</td>\n",
       "      <td>&lt;NA&gt;</td>\n",
       "    </tr>\n",
       "    <tr>\n",
       "      <th>1</th>\n",
       "      <td>China Construction Bank</td>\n",
       "      <td>0</td>\n",
       "      <td>&lt;NA&gt;</td>\n",
       "      <td>&lt;NA&gt;</td>\n",
       "    </tr>\n",
       "    <tr>\n",
       "      <th>2</th>\n",
       "      <td>Bank of China</td>\n",
       "      <td>0</td>\n",
       "      <td>&lt;NA&gt;</td>\n",
       "      <td>&lt;NA&gt;</td>\n",
       "    </tr>\n",
       "    <tr>\n",
       "      <th>3</th>\n",
       "      <td>Agricultural Bank of China</td>\n",
       "      <td>0</td>\n",
       "      <td>&lt;NA&gt;</td>\n",
       "      <td>&lt;NA&gt;</td>\n",
       "    </tr>\n",
       "    <tr>\n",
       "      <th>4</th>\n",
       "      <td>Industrial and Commercial Bank of China</td>\n",
       "      <td>0</td>\n",
       "      <td>&lt;NA&gt;</td>\n",
       "      <td>&lt;NA&gt;</td>\n",
       "    </tr>\n",
       "    <tr>\n",
       "      <th>...</th>\n",
       "      <td>...</td>\n",
       "      <td>...</td>\n",
       "      <td>...</td>\n",
       "      <td>...</td>\n",
       "    </tr>\n",
       "    <tr>\n",
       "      <th>76</th>\n",
       "      <td>Citizens Financial Group</td>\n",
       "      <td>8</td>\n",
       "      <td>&lt;NA&gt;</td>\n",
       "      <td>&lt;NA&gt;</td>\n",
       "    </tr>\n",
       "    <tr>\n",
       "      <th>77</th>\n",
       "      <td>Charles Schwab</td>\n",
       "      <td>14</td>\n",
       "      <td>2</td>\n",
       "      <td>12</td>\n",
       "    </tr>\n",
       "    <tr>\n",
       "      <th>78</th>\n",
       "      <td>JPMorgan Chase</td>\n",
       "      <td>594</td>\n",
       "      <td>398</td>\n",
       "      <td>196</td>\n",
       "    </tr>\n",
       "    <tr>\n",
       "      <th>79</th>\n",
       "      <td>Capital One</td>\n",
       "      <td>1741</td>\n",
       "      <td>1376</td>\n",
       "      <td>365</td>\n",
       "    </tr>\n",
       "    <tr>\n",
       "      <th>80</th>\n",
       "      <td>NC Truist</td>\n",
       "      <td>167</td>\n",
       "      <td>&lt;NA&gt;</td>\n",
       "      <td>&lt;NA&gt;</td>\n",
       "    </tr>\n",
       "  </tbody>\n",
       "</table>\n",
       "<p>81 rows × 4 columns</p>\n",
       "</div>"
      ],
      "text/plain": [
       "                                    Company  New Patent Count  \\\n",
       "0                            Ally Financial                 0   \n",
       "1                   China Construction Bank                 0   \n",
       "2                             Bank of China                 0   \n",
       "3                Agricultural Bank of China                 0   \n",
       "4   Industrial and Commercial Bank of China                 0   \n",
       "..                                      ...               ...   \n",
       "76                 Citizens Financial Group                 8   \n",
       "77                           Charles Schwab                14   \n",
       "78                           JPMorgan Chase               594   \n",
       "79                              Capital One              1741   \n",
       "80                                NC Truist               167   \n",
       "\n",
       "    2024 Index Patent Count  Change  \n",
       "0                      <NA>    <NA>  \n",
       "1                      <NA>    <NA>  \n",
       "2                      <NA>    <NA>  \n",
       "3                      <NA>    <NA>  \n",
       "4                      <NA>    <NA>  \n",
       "..                      ...     ...  \n",
       "76                     <NA>    <NA>  \n",
       "77                        2      12  \n",
       "78                      398     196  \n",
       "79                     1376     365  \n",
       "80                     <NA>    <NA>  \n",
       "\n",
       "[81 rows x 4 columns]"
      ]
     },
     "execution_count": 73,
     "metadata": {},
     "output_type": "execute_result"
    }
   ],
   "source": [
    "patent_counts_df"
   ]
  },
  {
   "cell_type": "code",
   "execution_count": null,
   "id": "f34dacdd-d5ca-4517-b34d-9ec7cef0ed4b",
   "metadata": {},
   "outputs": [],
   "source": []
  }
 ],
 "metadata": {
  "kernelspec": {
   "display_name": "Python 3 (ipykernel)",
   "language": "python",
   "name": "python3"
  },
  "language_info": {
   "codemirror_mode": {
    "name": "ipython",
    "version": 3
   },
   "file_extension": ".py",
   "mimetype": "text/x-python",
   "name": "python",
   "nbconvert_exporter": "python",
   "pygments_lexer": "ipython3",
   "version": "3.13.5"
  }
 },
 "nbformat": 4,
 "nbformat_minor": 5
}
